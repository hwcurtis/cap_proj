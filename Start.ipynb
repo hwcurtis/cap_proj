{
 "cells": [
  {
   "cell_type": "code",
   "execution_count": null,
   "id": "2b2c79ee",
   "metadata": {},
   "outputs": [
    {
     "name": "stdout",
     "output_type": "stream",
     "text": [
      "≥30 beats per minute within 10 min of upright posture or ≥40 beats per minute if under 18 years, with no orthostatic hypotension (drop in blood pressure >20/10 mmHg within 3 min of standing).\n"
     ]
    }
   ],
   "source": [
    "import pandas as pd\n",
    "\n",
    "# The text below appears to be a clinical criteria description, not code.\n",
    "criteria = (\n",
    "    \"≥30 beats per minute within 10 min of upright posture or \"\n",
    "    \"≥40 beats per minute if under 18 years, with no orthostatic hypotension \"\n",
    "    \"(drop in blood pressure >20/10 mmHg within 3 min of standing).\"\n",
    ")\n",
    "print(criteria)\n",
    "cvs  # display the DataFrame\n"
   ]
  },
  {
   "cell_type": "code",
   "execution_count": 5,
   "id": "53cfd5a0",
   "metadata": {},
   "outputs": [
    {
     "data": {
      "text/html": [
       "<div>\n",
       "<style scoped>\n",
       "    .dataframe tbody tr th:only-of-type {\n",
       "        vertical-align: middle;\n",
       "    }\n",
       "\n",
       "    .dataframe tbody tr th {\n",
       "        vertical-align: top;\n",
       "    }\n",
       "\n",
       "    .dataframe thead th {\n",
       "        text-align: right;\n",
       "    }\n",
       "</style>\n",
       "<table border=\"1\" class=\"dataframe\">\n",
       "  <thead>\n",
       "    <tr style=\"text-align: right;\">\n",
       "      <th></th>\n",
       "      <th>Symptom</th>\n",
       "      <th>Frequency</th>\n",
       "    </tr>\n",
       "  </thead>\n",
       "  <tbody>\n",
       "    <tr>\n",
       "      <th>0</th>\n",
       "      <td>Tachycardia</td>\n",
       "      <td>Common</td>\n",
       "    </tr>\n",
       "    <tr>\n",
       "      <th>1</th>\n",
       "      <td>Lightheadedness</td>\n",
       "      <td>Common</td>\n",
       "    </tr>\n",
       "    <tr>\n",
       "      <th>2</th>\n",
       "      <td>Palpitations</td>\n",
       "      <td>Common</td>\n",
       "    </tr>\n",
       "    <tr>\n",
       "      <th>3</th>\n",
       "      <td>Fatigue</td>\n",
       "      <td>Common</td>\n",
       "    </tr>\n",
       "  </tbody>\n",
       "</table>\n",
       "</div>"
      ],
      "text/plain": [
       "           Symptom Frequency\n",
       "0      Tachycardia    Common\n",
       "1  Lightheadedness    Common\n",
       "2     Palpitations    Common\n",
       "3          Fatigue    Common"
      ]
     },
     "execution_count": 5,
     "metadata": {},
     "output_type": "execute_result"
    }
   ],
   "source": [
    "# Example DataFrame for cardiovascular symptoms (cvs)\n",
    "cvs = pd.DataFrame({\n",
    "\t'Symptom': ['Tachycardia', 'Lightheadedness', 'Palpitations', 'Fatigue'],\n",
    "\t'Frequency': ['Common', 'Common', 'Common', 'Common']\n",
    "})\n",
    "cvs  # display the DataFrame\n",
    "\n",
    "\n"
   ]
  }
 ],
 "metadata": {
  "kernelspec": {
   "display_name": "Python 3",
   "language": "python",
   "name": "python3"
  },
  "language_info": {
   "codemirror_mode": {
    "name": "ipython",
    "version": 3
   },
   "file_extension": ".py",
   "mimetype": "text/x-python",
   "name": "python",
   "nbconvert_exporter": "python",
   "pygments_lexer": "ipython3",
   "version": "3.13.2"
  }
 },
 "nbformat": 4,
 "nbformat_minor": 5
}
