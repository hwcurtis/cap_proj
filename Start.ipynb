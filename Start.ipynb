{
 "cells": [
  {
   "cell_type": "code",
   "execution_count": null,
   "id": "2b2c79ee",
   "metadata": {},
   "outputs": [],
   "source": [
    "import pandas as pd\n",
    "\n",
    "# The text below appears to be a clinical criteria description, not code.\n",
    "criteria = (\n",
    "    \"≥30 beats per minute within 10 min of upright posture or \"\n",
    "    \"≥40 beats per minute if under 18 years, with no orthostatic hypotension \"\n",
    "    \"(drop in blood pressure >20/10 mmHg within 3 min of standing).\"\n",
    ")\n",
    "print(criteria)\n",
    "\n",
    "# Display the DataFrame\n",
    "cvs  # display the DataFrame\n"
   ]
  },
  {
   "cell_type": "code",
   "execution_count": null,
   "id": "53cfd5a0",
   "metadata": {},
   "outputs": [],
   "source": [
    "# Example DataFrame for cardiovascular symptoms (cvs)\n",
    "cvs = pd.DataFrame({\n",
    "\t'Symptom': ['Tachycardia', 'Lightheadedness', 'Palpitations', 'Fatigue'],\n",
    "\t'Frequency': ['Common', 'Common', 'Common', 'Common']\n",
    "})\n",
    "cvs  # display the DataFrame\n",
    "\n",
    "\n"
   ]
  },
  {
   "cell_type": "code",
   "execution_count": null,
   "id": "820d9229",
   "metadata": {},
   "outputs": [],
   "source": [
    "from IPython.display import display, Markdown\n",
    "\n",
    "display(Markdown(\n",
    "\t\"## Demographics\\n\\n\"\n",
    "\t\"POTS predominantly affects young women, with approximately 80% of patients being female. \"\n",
    "\t\"The onset typically occurs between the ages of 15 and 50, with a peak incidence in the teenage years and early adulthood (Low et al., 2009). \"\n",
    "\t\"The prevalence of POTS is estimated to be around 0.1% of the population, although this may be an underestimation due to underdiagnosis and misdiagnosis (Sheldon et al., 2015).\"\n",
    "))"
   ]
  }
 ],
 "metadata": {
  "kernelspec": {
   "display_name": "Python 3",
   "language": "python",
   "name": "python3"
  },
  "language_info": {
   "codemirror_mode": {
    "name": "ipython",
    "version": 3
   },
   "file_extension": ".py",
   "mimetype": "text/x-python",
   "name": "python",
   "nbconvert_exporter": "python",
   "pygments_lexer": "ipython3",
   "version": "3.13.2"
  }
 },
 "nbformat": 4,
 "nbformat_minor": 5
}
