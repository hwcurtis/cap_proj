{
 "cells": [
  {
   "cell_type": "code",
   "execution_count": null,
   "id": "2b2c79ee",
   "metadata": {},
   "outputs": [],
   "source": [
    "import pandas as pd\n",
    "\n",
    "# Clinical criteria description as a string\n",
    "criteria = (\n",
    "    \"≥30 beats per minute within 10 min of upright posture or \"\n",
    "    \"≥40 beats per minute if under 18 years, with no orthostatic hypotension \"\n",
    "    \"(drop in blood pressure >20/10 mmHg within 3 min of standing).\"\n",
    ")\n",
    "print(criteria)\n",
    "\n",
    "# Save the clinical criteria to a CSV file\n",
    "criteria_df = pd.DataFrame({\n",
    "    \"criteria\": [criteria],\n",
    "    \"source\": [\"https://doi.org/10.1016/j.jpsychores.2019.110144\"],\n",
    "    \"condition\": [\"Postural Orthostatic Tachycardia Syndrome (POTS)\"],\n",
    "    \"category\": [\"Clinical Criteria\"],\n",
    "})\n",
    "criteria_df.to_csv(\"cvs.csv\", index=False)\n",
    "print(\"Clinical criteria for POTS saved to cvs.csv\")\n"
   ]
  },
  {
   "cell_type": "code",
   "execution_count": null,
   "id": "53cfd5a0",
   "metadata": {},
   "outputs": [],
   "source": [
    "# Example DataFrame for cardiovascular symptoms (cvs)\n",
    "# The variable 'cvs' is already defined in another cell, so we just display it here\n",
    "cvs  # display the DataFrame\n",
    "\n",
    "\n"
   ]
  },
  {
   "cell_type": "code",
   "execution_count": 17,
   "id": "820d9229",
   "metadata": {},
   "outputs": [
    {
     "data": {
      "text/markdown": [
       "## Demographics\n",
       "\n",
       "POTS predominantly affects young women, with approximately 80% of patients being female. The onset typically occurs between the ages of 15 and 50, with a peak incidence in the teenage years and early adulthood (Low et al., 2009). The prevalence of POTS is estimated to be around 0.1% of the population, although this may be an underestimation due to underdiagnosis and misdiagnosis (Sheldon et al., 2015)."
      ],
      "text/plain": [
       "<IPython.core.display.Markdown object>"
      ]
     },
     "metadata": {},
     "output_type": "display_data"
    },
    {
     "data": {
      "application/vnd.microsoft.datawrangler.viewer.v0+json": {
       "columns": [
        {
         "name": "index",
         "rawType": "int64",
         "type": "integer"
        },
        {
         "name": "Symptom",
         "rawType": "object",
         "type": "string"
        },
        {
         "name": "Frequency",
         "rawType": "object",
         "type": "string"
        }
       ],
       "ref": "dcbbbb69-fe63-4a3e-a528-8f66fc6e86ec",
       "rows": [
        [
         "0",
         "Tachycardia",
         "Common"
        ],
        [
         "1",
         "Lightheadedness",
         "Common"
        ],
        [
         "2",
         "Palpitations",
         "Common"
        ],
        [
         "3",
         "Fatigue",
         "Common"
        ]
       ],
       "shape": {
        "columns": 2,
        "rows": 4
       }
      },
      "text/html": [
       "<div>\n",
       "<style scoped>\n",
       "    .dataframe tbody tr th:only-of-type {\n",
       "        vertical-align: middle;\n",
       "    }\n",
       "\n",
       "    .dataframe tbody tr th {\n",
       "        vertical-align: top;\n",
       "    }\n",
       "\n",
       "    .dataframe thead th {\n",
       "        text-align: right;\n",
       "    }\n",
       "</style>\n",
       "<table border=\"1\" class=\"dataframe\">\n",
       "  <thead>\n",
       "    <tr style=\"text-align: right;\">\n",
       "      <th></th>\n",
       "      <th>Symptom</th>\n",
       "      <th>Frequency</th>\n",
       "    </tr>\n",
       "  </thead>\n",
       "  <tbody>\n",
       "    <tr>\n",
       "      <th>0</th>\n",
       "      <td>Tachycardia</td>\n",
       "      <td>Common</td>\n",
       "    </tr>\n",
       "    <tr>\n",
       "      <th>1</th>\n",
       "      <td>Lightheadedness</td>\n",
       "      <td>Common</td>\n",
       "    </tr>\n",
       "    <tr>\n",
       "      <th>2</th>\n",
       "      <td>Palpitations</td>\n",
       "      <td>Common</td>\n",
       "    </tr>\n",
       "    <tr>\n",
       "      <th>3</th>\n",
       "      <td>Fatigue</td>\n",
       "      <td>Common</td>\n",
       "    </tr>\n",
       "  </tbody>\n",
       "</table>\n",
       "</div>"
      ],
      "text/plain": [
       "           Symptom Frequency\n",
       "0      Tachycardia    Common\n",
       "1  Lightheadedness    Common\n",
       "2     Palpitations    Common\n",
       "3          Fatigue    Common"
      ]
     },
     "metadata": {},
     "output_type": "display_data"
    }
   ],
   "source": [
    "from IPython.display import display, Markdown\n",
    "\n",
    "# Display markdown with demographics information\n",
    "demographics_md = (\n",
    "\t\"## Demographics\\n\\n\"\n",
    "\t\"POTS predominantly affects young women, with approximately 80% of patients being female. \"\n",
    "\t\"The onset typically occurs between the ages of 15 and 50, with a peak incidence in the teenage years and early adulthood (Low et al., 2009). \"\n",
    "\t\"The prevalence of POTS is estimated to be around 0.1% of the population, although this may be an underestimation due to underdiagnosis and misdiagnosis (Sheldon et al., 2015).\"\n",
    ")\n",
    "display(Markdown(demographics_md))\n",
    "\n",
    "# Display the cardiovascular symptoms DataFrame\n",
    "display(cvs)"
   ]
  }
 ],
 "metadata": {
  "kernelspec": {
   "display_name": "Python 3",
   "language": "python",
   "name": "python3"
  },
  "language_info": {
   "codemirror_mode": {
    "name": "ipython",
    "version": 3
   },
   "file_extension": ".py",
   "mimetype": "text/x-python",
   "name": "python",
   "nbconvert_exporter": "python",
   "pygments_lexer": "ipython3",
   "version": "3.13.2"
  }
 },
 "nbformat": 4,
 "nbformat_minor": 5
}
